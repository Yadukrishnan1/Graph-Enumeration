{
 "cells": [
  {
   "cell_type": "code",
   "execution_count": 60,
   "metadata": {},
   "outputs": [],
   "source": [
    "from pynauty import *\n",
    "import ipyvolume as ipv"
   ]
  },
  {
   "cell_type": "code",
   "execution_count": 61,
   "metadata": {},
   "outputs": [],
   "source": [
    "g1=Graph(number_of_vertices=5,\n",
    " adjacency_dict={0: [1, 2, 3, 4], 2: [3]})\n",
    "\n",
    "g6=Graph(number_of_vertices=5, directed=False,\n",
    " adjacency_dict={0: [1, 2, 3, 4], 1: [0], 2: [0, 3],3:[0, 2], 4:[0]}, vertex_coloring = [],)\n",
    "\n",
    "g2=Graph(number_of_vertices=5, directed=False,\n",
    " adjacency_dict={0: [1], 1: [2, 3, 4], 3: [4],}, vertex_coloring = [],)\n",
    "\n",
    "g3=Graph(number_of_vertices=5, directed=False,\n",
    " adjacency_dict={0: [2],1: [2],2: [3, 4],}, vertex_coloring = [],)\n",
    "\n",
    "g4=Graph(number_of_vertices=5, directed=False,\n",
    " adjacency_dict={0: [1, 2, 3, 4],}, vertex_coloring = [],)\n",
    "\n",
    "g5=Graph(number_of_vertices=5, directed=False,\n",
    " adjacency_dict={0: [1, 4],1: [4],2: [4],3: [4],}, vertex_coloring = [],)"
   ]
  },
  {
   "cell_type": "code",
   "execution_count": 62,
   "metadata": {},
   "outputs": [
    {
     "data": {
      "text/plain": [
       "True"
      ]
     },
     "execution_count": 62,
     "metadata": {},
     "output_type": "execute_result"
    }
   ],
   "source": [
    "isomorphic(g1, g6)"
   ]
  },
  {
   "cell_type": "markdown",
   "metadata": {},
   "source": [
    "# A developed, but incomplete version of the code at the end. \n",
    "1. The intention is to produce all the configurations possible for a system for a fixed box volume and fixed # of particles. Not working now, because of indentation and logical order of the code. Instead of giving (trial)# configurations in a textfile(graphs.txt), it only outputs the last configuration. The plot also only prints the last configuration g(trial-1).\n",
    "\n",
    "Update: The previous problem is fixed on 3/22/2019.\n",
    "\n",
    "2. The next target is to avoid configurations where there's a disconnected graph.\n",
    "\n"
   ]
  },
  {
   "cell_type": "code",
   "execution_count": 112,
   "metadata": {
    "scrolled": false
   },
   "outputs": [
    {
     "data": {
      "application/vnd.jupyter.widget-view+json": {
       "model_id": "7f35046f158844b69568ae7b5f186995",
       "version_major": 2,
       "version_minor": 0
      },
      "text/plain": [
       "VBox(children=(Figure(camera=PerspectiveCamera(fov=46.0, position=(0.0, 0.0, 2.0), quaternion=(0.0, 0.0, 0.0, …"
      ]
     },
     "metadata": {},
     "output_type": "display_data"
    },
    {
     "data": {
      "application/vnd.jupyter.widget-view+json": {
       "model_id": "937487aed6f64b288f00a9e9b016ddef",
       "version_major": 2,
       "version_minor": 0
      },
      "text/plain": [
       "VBox(children=(Figure(camera=PerspectiveCamera(fov=46.0, position=(0.0, 0.0, 2.0), quaternion=(0.0, 0.0, 0.0, …"
      ]
     },
     "metadata": {},
     "output_type": "display_data"
    },
    {
     "data": {
      "application/vnd.jupyter.widget-view+json": {
       "model_id": "0a8c98e54f344133af35583a27bcfead",
       "version_major": 2,
       "version_minor": 0
      },
      "text/plain": [
       "VBox(children=(Figure(camera=PerspectiveCamera(fov=46.0, position=(0.0, 0.0, 2.0), quaternion=(0.0, 0.0, 0.0, …"
      ]
     },
     "metadata": {},
     "output_type": "display_data"
    },
    {
     "data": {
      "application/vnd.jupyter.widget-view+json": {
       "model_id": "a85d521297ad4f0cad6daf9f244af31b",
       "version_major": 2,
       "version_minor": 0
      },
      "text/plain": [
       "VBox(children=(Figure(camera=PerspectiveCamera(fov=46.0, position=(0.0, 0.0, 2.0), quaternion=(0.0, 0.0, 0.0, …"
      ]
     },
     "metadata": {},
     "output_type": "display_data"
    },
    {
     "data": {
      "application/vnd.jupyter.widget-view+json": {
       "model_id": "0b7e1a0c3e214bce890e650ea4bfe26d",
       "version_major": 2,
       "version_minor": 0
      },
      "text/plain": [
       "VBox(children=(Figure(camera=PerspectiveCamera(fov=46.0, position=(0.0, 0.0, 2.0), quaternion=(0.0, 0.0, 0.0, …"
      ]
     },
     "metadata": {},
     "output_type": "display_data"
    },
    {
     "data": {
      "application/vnd.jupyter.widget-view+json": {
       "model_id": "bb10b3d629a44d5a83a812be47e148e5",
       "version_major": 2,
       "version_minor": 0
      },
      "text/plain": [
       "VBox(children=(Figure(camera=PerspectiveCamera(fov=46.0, position=(0.0, 0.0, 2.0), quaternion=(0.0, 0.0, 0.0, …"
      ]
     },
     "metadata": {},
     "output_type": "display_data"
    },
    {
     "data": {
      "application/vnd.jupyter.widget-view+json": {
       "model_id": "0f3e1eb61824465bab7b869aac35d3d6",
       "version_major": 2,
       "version_minor": 0
      },
      "text/plain": [
       "VBox(children=(Figure(camera=PerspectiveCamera(fov=46.0, position=(0.0, 0.0, 2.0), quaternion=(0.0, 0.0, 0.0, …"
      ]
     },
     "metadata": {},
     "output_type": "display_data"
    },
    {
     "data": {
      "application/vnd.jupyter.widget-view+json": {
       "model_id": "62c501bc72364fdbad3f5cfd33e3f5e5",
       "version_major": 2,
       "version_minor": 0
      },
      "text/plain": [
       "VBox(children=(Figure(camera=PerspectiveCamera(fov=46.0, position=(0.0, 0.0, 2.0), quaternion=(0.0, 0.0, 0.0, …"
      ]
     },
     "metadata": {},
     "output_type": "display_data"
    },
    {
     "data": {
      "application/vnd.jupyter.widget-view+json": {
       "model_id": "9d81c750cd524c26bc5c059cb12b6ce2",
       "version_major": 2,
       "version_minor": 0
      },
      "text/plain": [
       "VBox(children=(Figure(camera=PerspectiveCamera(fov=46.0, position=(0.0, 0.0, 2.0), quaternion=(0.0, 0.0, 0.0, …"
      ]
     },
     "metadata": {},
     "output_type": "display_data"
    },
    {
     "data": {
      "application/vnd.jupyter.widget-view+json": {
       "model_id": "a7acb68839e7447ba005947db71e9e4d",
       "version_major": 2,
       "version_minor": 0
      },
      "text/plain": [
       "VBox(children=(Figure(camera=PerspectiveCamera(fov=46.0, position=(0.0, 0.0, 2.0), quaternion=(0.0, 0.0, 0.0, …"
      ]
     },
     "metadata": {},
     "output_type": "display_data"
    },
    {
     "data": {
      "text/plain": [
       "<Figure size 432x288 with 0 Axes>"
      ]
     },
     "metadata": {},
     "output_type": "display_data"
    },
    {
     "data": {
      "text/plain": [
       "<Figure size 360x360 with 0 Axes>"
      ]
     },
     "metadata": {},
     "output_type": "display_data"
    },
    {
     "data": {
      "text/plain": [
       "<Figure size 360x360 with 0 Axes>"
      ]
     },
     "metadata": {},
     "output_type": "display_data"
    },
    {
     "data": {
      "text/plain": [
       "<Figure size 360x360 with 0 Axes>"
      ]
     },
     "metadata": {},
     "output_type": "display_data"
    },
    {
     "data": {
      "text/plain": [
       "<Figure size 360x360 with 0 Axes>"
      ]
     },
     "metadata": {},
     "output_type": "display_data"
    },
    {
     "data": {
      "text/plain": [
       "<Figure size 360x360 with 0 Axes>"
      ]
     },
     "metadata": {},
     "output_type": "display_data"
    },
    {
     "data": {
      "text/plain": [
       "<Figure size 360x360 with 0 Axes>"
      ]
     },
     "metadata": {},
     "output_type": "display_data"
    },
    {
     "data": {
      "text/plain": [
       "<Figure size 360x360 with 0 Axes>"
      ]
     },
     "metadata": {},
     "output_type": "display_data"
    },
    {
     "data": {
      "text/plain": [
       "<Figure size 360x360 with 0 Axes>"
      ]
     },
     "metadata": {},
     "output_type": "display_data"
    },
    {
     "data": {
      "text/plain": [
       "<Figure size 360x360 with 0 Axes>"
      ]
     },
     "metadata": {},
     "output_type": "display_data"
    },
    {
     "data": {
      "text/plain": [
       "<Figure size 360x360 with 0 Axes>"
      ]
     },
     "metadata": {},
     "output_type": "display_data"
    }
   ],
   "source": [
    "# import timeit\n",
    "import numpy as np\n",
    "from mpl_toolkits.mplot3d import Axes3D\n",
    "import matplotlib.pyplot as plt\n",
    "import random \n",
    "\n",
    "# The Delone parameters\n",
    "r, R=1., 2.5 \n",
    "\n",
    "# Set the number of particles that are going to be randomly introduced \n",
    "particles=5\n",
    "\n",
    "boxlen = np.genfromtxt('min_box.txt', comments='#', delimiter=\" \")\n",
    "maxrad = boxlen[:100,1]    ## The maximum radius of circles fits in a square box of unit length.\n",
    "leng = r/maxrad\n",
    "x_min, y_min, z_min = 0., 0., 0.\n",
    "x_max, y_max, z_max = leng[particles-1], leng[particles-1], leng[particles-1]\n",
    "\n",
    "# The number of points in the sample from which atoms are selected.\n",
    "N=50;  \n",
    "\n",
    "dist=np.full((N,N,N),0.0) #[[[0 for z in range(N)] for x in range(N)] for y in range(N)] \n",
    "xf=np.full((N,N),0.0)       #[[0 for z in range(N)] for x in range(N)]\n",
    "yf=np.full((N,N),0.0)       #[[0 for z in range(N)] for x in range(N)]\n",
    "zf=np.full((N,N),0.0)       #[[0 for z in range(N)] for x in range(N)]\n",
    "\n",
    "with open(\"graphs.txt\",\"w\") as outfile:\n",
    "    for trial in range(10):\n",
    "        outstring ='\\n'\n",
    "        outstring += 'g' + str(trial) + '=Graph(number_of_vertices=' + str(particles) + ' , adjacency_dict={'\n",
    "\n",
    "        #while loop starts here.\n",
    "        while (xf[particles][:particles] == np.full_like(xf[particles][:particles], 0.)).all():  ## While loop to always output non-zeroes\n",
    "            for i in range(N):\n",
    "                xf[0][i]=(x_min+random.uniform(0., 1.)*(x_max-x_min))\n",
    "                yf[0][i]=(y_min+random.uniform(0., 1.)*(y_max-y_min))\n",
    "                zf[0][i]=0.0\n",
    "\n",
    "            for i in range(N):\n",
    "                for j in range(N):\n",
    "                    dist[i][j][0]=(((xf[0][i]-xf[0][j])**2 + (yf[0][i]-yf[0][j])**2 + (zf[0][i]-zf[0][j])**2)**0.5)\n",
    "\n",
    "            ## The loops to select the atomic coordinates\n",
    "            s=N\n",
    "            for j in range(particles):\n",
    "                k=0\n",
    "                for i in range(s):\n",
    "                    if dist[i][j][j] >= 2*r:\n",
    "                        xf[j+1][k] = xf[j][i];      ## If distance is greater than the optimum, point is chosen.\n",
    "                        yf[j+1][k] = yf[j][i];\n",
    "                        zf[j+1][k] = zf[j][i];\n",
    "                        k +=1;                      ## k is the # of successful selection of particles. \n",
    "                    elif i==j:                      ## When the 'i loop' ends, k = # of particles.\n",
    "                        xf[j+1][k] = xf[j][i];\n",
    "                        yf[j+1][k] = yf[j][i];      ## i=j should be accommodated.\n",
    "                        zf[j+1][k] = zf[j][i];\n",
    "                        k +=1;\n",
    "                    else:\n",
    "                        k=k          ## If the point is closer than 2*r, don't increment k.\n",
    "            \n",
    "                s=k\n",
    "                for m in range(s):\n",
    "                    for l in range(s):\n",
    "                        dist[m][l][j+1]=(((xf[j+1][m]-xf[j+1][l])**2+(yf[j+1][m]-yf[j+1][l])**2+(zf[j+1][m]-zf[j+1][l])**2)**0.5)\n",
    "        #while loop ends here.\n",
    "                \n",
    "        ## The position (xf, yf, zf) of the selected particle after the screening will be xf[particles][:particles]\n",
    "\n",
    "        plt.figure(1)\n",
    "        plt.figure(figsize=(5,5))\n",
    "#         plt.grid(True)\n",
    "        ipv.quickscatter(xf[particles][:particles], yf[particles][:particles], zf[particles][:particles], size=32, marker=\"sphere\")\n",
    "#         plt.scatter(xf[particles][:particles], yf[particles][:particles], c='c', marker='o', s=6150)\n",
    "#         plt.xlim(x_min,x_max)\n",
    "#         plt.ylim(y_min,y_max)\n",
    "#         plt.show()\n",
    "        ipv.show()\n",
    "\n",
    "        for i in range(particles):\n",
    "            outstring += str(i)+':['\n",
    "            for j in range(particles):\n",
    "                if dist[i][j][particles] <= R and i != j:\n",
    "                    outstring += str(j) + ','\n",
    "            outstring += '],'\n",
    "        outstring += '})\\n\\n'\n",
    "        outfile.write(outstring)\n",
    "        ## This is to reset the \n",
    "        xf=np.full((N,N),0.0) # arrays xf, yf and zf to zero       \n",
    "        yf=np.full((N,N),0.0) # for the trial loop to give    \n",
    "        zf=np.full((N,N),0.0) # maximum configurations.     "
   ]
  },
  {
   "cell_type": "code",
   "execution_count": 70,
   "metadata": {},
   "outputs": [
    {
     "data": {
      "text/plain": [
       "(50, 50)"
      ]
     },
     "execution_count": 70,
     "metadata": {},
     "output_type": "execute_result"
    }
   ],
   "source": [
    "xf.shape"
   ]
  },
  {
   "cell_type": "markdown",
   "metadata": {},
   "source": [
    "# Creates a configuration in the smallest possible box. (Ported the voronoi.cc file to python) Works well as of 2/28/2019.\n",
    "\n",
    "## Some ponits for future reference.\n",
    "\n",
    "### 1) The # of configurations will depend on the R values.  (Take r and R values from an original metallic system)\n",
    "### 2) Also, below we are also getting disconnected graphs (represents gas/evaporation). Algorithm should accommodate to disregard these configurations when counting.\n",
    "### 3) The volume of the box or limits need to be checked every time. Only the center (nucleus) of the circle is inside the box, not the whole atom."
   ]
  },
  {
   "cell_type": "code",
   "execution_count": 5,
   "metadata": {},
   "outputs": [
    {
     "data": {
      "text/plain": [
       "<Figure size 432x288 with 0 Axes>"
      ]
     },
     "metadata": {},
     "output_type": "display_data"
    },
    {
     "data": {
      "image/png": "[encoded data removed]",
      "text/plain": [
       "<Figure size 360x360 with 1 Axes>"
      ]
     },
     "metadata": {
      "needs_background": "light"
     },
     "output_type": "display_data"
    }
   ],
   "source": [
    "import timeit\n",
    "import numpy as np\n",
    "from mpl_toolkits.mplot3d import Axes3D\n",
    "import matplotlib.pyplot as plt\n",
    "import random \n",
    "\n",
    "# The Delone parameters\n",
    "r, R=1., 2.5 # r is always double the atomic radius. R could be anything.\n",
    "\n",
    "# Set the number of particles that are going to be randomly introduced \n",
    "particles=3\n",
    "\n",
    "boxlen = np.genfromtxt('min_box.txt', comments='#', delimiter=\" \")\n",
    "maxrad = boxlen[:100,1]    ## The maximum radius of circles fits in a square box of unit length.\n",
    "leng = r/maxrad\n",
    "x_min, y_min, z_min = 0., 0., 0.\n",
    "x_max, y_max, z_max = leng[particles-1]-r, leng[particles-1]-r, 0.#leng[particles-1]\n",
    "\n",
    "# The number of points in the sample from which atoms are selected.\n",
    "N=50;  \n",
    "\n",
    "dist=np.full((N,N,N),0.0) #[[[0 for z in range(N)] for x in range(N)] for y in range(N)] \n",
    "xf=np.full((N,N),0.0)       #[[0 for z in range(N)] for x in range(N)]\n",
    "yf=np.full((N,N),0.0)       #[[0 for z in range(N)] for x in range(N)]\n",
    "zf=np.full((N,N),0.0)       #[[0 for z in range(N)] for x in range(N)]\n",
    "\n",
    "#while loop starts here.\n",
    "while (xf[particles][:particles] == np.full_like(xf[particles][:particles], 0.)).all():  ## While loop to always output non-zeroes\n",
    "    for i in range(N):\n",
    "        xf[0][i]=(x_min+random.uniform(0., 1.)*(x_max-x_min))\n",
    "        yf[0][i]=(y_min+random.uniform(0., 1.)*(y_max-y_min))\n",
    "        zf[0][i]=0.0\n",
    "\n",
    "    for i in range(N):\n",
    "        for j in range(N):\n",
    "            dist[i][j][0]=(((xf[0][i]-xf[0][j])**2 + (yf[0][i]-yf[0][j])**2 + (zf[0][i]-zf[0][j])**2)**0.5)\n",
    "\n",
    "    ## The loops to select the atomic coordinates\n",
    "    s=N\n",
    "    for j in range(particles):\n",
    "        k=0\n",
    "        for i in range(s):\n",
    "            if dist[i][j][j] >= 2*r:\n",
    "                xf[j+1][k] = xf[j][i];      ## If distance is greater than the optimum, point is chosen.\n",
    "                yf[j+1][k] = yf[j][i];\n",
    "                zf[j+1][k] = zf[j][i];\n",
    "                k +=1;                      ## k is the # of successful selection of particles. \n",
    "            elif i==j:                      ## When the 'i loop' ends, k = # of particles.\n",
    "                xf[j+1][k] = xf[j][i];\n",
    "                yf[j+1][k] = yf[j][i];      ## i=j should be accommodated.\n",
    "                zf[j+1][k] = zf[j][i];\n",
    "                k +=1;\n",
    "            else:\n",
    "                k=k          ## If the point is closer than 2*r, don't increment k.\n",
    "            \n",
    "        s=k\n",
    "        for m in range(s):\n",
    "            for l in range(s):\n",
    "                dist[m][l][j+1]=(((xf[j+1][m]-xf[j+1][l])**2+(yf[j+1][m]-yf[j+1][l])**2+(zf[j+1][m]-zf[j+1][l])**2)**0.5)\n",
    "#while loop ends here.\n",
    "                \n",
    "## The position (xf, yf, zf) of the selected particle after the screening will be xf[particles][:particles]\n",
    "\n",
    "plt.figure(1)\n",
    "plt.figure(figsize=(5,5))\n",
    "plt.grid(True)\n",
    "# ipv.quickscatter(xf[particles][:particles], yf[particles][:particles], zf[particles][:particles], size=32, marker=\"sphere\")\n",
    "plt.scatter(xf[particles][:particles], yf[particles][:particles], c='c', marker='o', s=33500) #s=6150 for particles=10 \n",
    "plt.xlim(x_min,x_max)\n",
    "plt.ylim(y_min,y_max)\n",
    "plt.show()\n",
    "# ipv.show()\n",
    "\n",
    "with open(\"graphs.txt\",\"w\") as outfile:\n",
    "    outstring = 'g' + str() + '=Graph(number_of_vertices=' + str(particles) + ' ,adjacency_dict={'\n",
    "    for i in range(particles):\n",
    "        outstring += str(i)+':['\n",
    "        for j in range(particles):\n",
    "            if dist[i][j][particles] <= R and i != j: #<= 2*R\n",
    "                outstring += str(j) + ','\n",
    "        outstring += '],'\n",
    "    outstring += '})\\n\\n'\n",
    "    outfile.write(outstring)\n",
    "        \n",
    "                "
   ]
  },
  {
   "cell_type": "code",
   "execution_count": 795,
   "metadata": {},
   "outputs": [],
   "source": [
    "### Some ponits for future reference ####\n",
    "\n",
    "# 1) The # of configurations will depend on the R values.  \n",
    "# 2) Also, below we are also getting disconnected graphs \n",
    "#   (represents gas/evaporation). Algorith should accommodate to disregard these configurations when counting.\n",
    "# 3) The volume of the box or limits need to be checked every time. Only the center (nucleus) of the circle is \n",
    "#    inside the box, not the whole atom.\n",
    "\n",
    "\n",
    "g10=Graph(number_of_vertices=3 ,adjacency_dict={0:[2,],1:[2,],2:[0,1,],})\n",
    "g11=Graph(number_of_vertices=3 ,adjacency_dict={0:[1,],1:[0,2,],2:[1,],})\n",
    "g12=Graph(number_of_vertices=3 ,adjacency_dict={0:[],1:[2,],2:[1,],})\n",
    "g13=Graph(number_of_vertices=3 ,adjacency_dict={0:[2,],1:[2,],2:[0,1,],})\n",
    "g14=Graph(number_of_vertices=3 ,adjacency_dict={0:[1,2,],1:[0,2,],2:[0,1,],})\n",
    "g15=Graph(number_of_vertices=3 ,adjacency_dict={0:[],1:[2,],2:[1,],})\n",
    "g16=Graph(number_of_vertices=3 ,adjacency_dict={0:[1,],1:[0,],2:[],})\n",
    "# g17=\n",
    "# g18=\n",
    "# g19=\n",
    "\n",
    "\n",
    "\n",
    "\n",
    "\n"
   ]
  },
  {
   "cell_type": "code",
   "execution_count": 802,
   "metadata": {},
   "outputs": [
    {
     "data": {
      "text/plain": [
       "False"
      ]
     },
     "execution_count": 802,
     "metadata": {},
     "output_type": "execute_result"
    }
   ],
   "source": [
    "isomorphic(g10, g16)"
   ]
  },
  {
   "cell_type": "code",
   "execution_count": null,
   "metadata": {},
   "outputs": [],
   "source": []
  }
 ],
 "metadata": {
  "kernelspec": {
   "display_name": "Python 3",
   "language": "python",
   "name": "python3"
  },
  "language_info": {
   "codemirror_mode": {
    "name": "ipython",
    "version": 3
   },
   "file_extension": ".py",
   "mimetype": "text/x-python",
   "name": "python",
   "nbconvert_exporter": "python",
   "pygments_lexer": "ipython3",
   "version": "3.6.7"
  }
 },
 "nbformat": 4,
 "nbformat_minor": 2
}
